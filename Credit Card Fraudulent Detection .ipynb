{
 "cells": [
  {
   "cell_type": "code",
   "execution_count": 124,
   "metadata": {},
   "outputs": [],
   "source": [
    "import pandas as pd\n",
    "import tensorflow as tf\n",
    "import seaborn as sns\n",
    "import numpy as np\n",
    "import matplotlib.pyplot as plt\n",
    "%matplotlib inline\n",
    "LABELS = ['Normal','Fraud']\n",
    "from sklearn.preprocessing import StandardScaler\n",
    "from sklearn.model_selection import train_test_split\n",
    "from keras.layers import Dense, Input\n",
    "from keras.models import Model, load_model\n",
    "from keras.callbacks import ModelCheckpoint, TensorBoard\n",
    "from sklearn.metrics import confusion_matrix, precision_recall_curve"
   ]
  },
  {
   "cell_type": "code",
   "execution_count": 84,
   "metadata": {},
   "outputs": [],
   "source": [
    "df = pd.read_csv('./creditcardfraud/creditcard.csv')"
   ]
  },
  {
   "cell_type": "markdown",
   "metadata": {},
   "source": [
    "### EDA"
   ]
  },
  {
   "cell_type": "code",
   "execution_count": null,
   "metadata": {},
   "outputs": [],
   "source": [
    "#check for null values\n",
    "df.isnull().values.any()"
   ]
  },
  {
   "cell_type": "code",
   "execution_count": 35,
   "metadata": {},
   "outputs": [
    {
     "name": "stdout",
     "output_type": "stream",
     "text": [
      "0    284315\n",
      "1       492\n",
      "Name: Class, dtype: int64\n"
     ]
    },
    {
     "data": {
      "image/png": "[encoded data removed]",
      "text/plain": [
       "<Figure size 432x288 with 1 Axes>"
      ]
     },
     "metadata": {
      "needs_background": "light"
     },
     "output_type": "display_data"
    }
   ],
   "source": [
    "#check for class imbalance \n",
    "count = pd.value_counts(df['Class'])\n",
    "count.plot(kind='bar', rot=0, title='Distribution')\n",
    "plt.xticks(range(2),LABELS)\n",
    "plt.xlabel('Class')\n",
    "plt.ylabel('Number of examples')\n",
    "print(count)"
   ]
  },
  {
   "cell_type": "code",
   "execution_count": 58,
   "metadata": {},
   "outputs": [],
   "source": [
    "#check how amount varies with class (normal/fraud)\n",
    "frauds_example = df[df['Class']==1]\n",
    "normal_example = df[df['Class']==0]"
   ]
  },
  {
   "cell_type": "code",
   "execution_count": 59,
   "metadata": {},
   "outputs": [
    {
     "data": {
      "text/plain": [
       "(492, 31)"
      ]
     },
     "execution_count": 59,
     "metadata": {},
     "output_type": "execute_result"
    }
   ],
   "source": [
    "frauds_example.shape"
   ]
  },
  {
   "cell_type": "code",
   "execution_count": 60,
   "metadata": {},
   "outputs": [
    {
     "data": {
      "text/plain": [
       "(284315, 31)"
      ]
     },
     "execution_count": 60,
     "metadata": {},
     "output_type": "execute_result"
    }
   ],
   "source": [
    "normal_example.shape"
   ]
  },
  {
   "cell_type": "code",
   "execution_count": 66,
   "metadata": {},
   "outputs": [
    {
     "data": {
      "text/plain": [
       "(0, 20000)"
      ]
     },
     "execution_count": 66,
     "metadata": {},
     "output_type": "execute_result"
    },
    {
     "data": {
      "image/png": "[encoded data removed]",
      "text/plain": [
       "<Figure size 432x288 with 2 Axes>"
      ]
     },
     "metadata": {
      "needs_background": "light"
     },
     "output_type": "display_data"
    }
   ],
   "source": [
    "#checking variation of amounts with fraud/normal cases\n",
    "f,(sub1,sub2) = plt.subplots(2,1,sharex=True)\n",
    "\n",
    "sub1.hist(normal_example['Amount'],bins=50)\n",
    "sub1.set_title('Normal Cases')\n",
    "\n",
    "sub2.hist(normal_example['Amount'], bins=50)\n",
    "sub2.set_title('Fraud Cases')\n",
    "\n",
    "plt.xlabel('Amount')\n",
    "plt.ylabel('Number of transaction')\n",
    "plt.yscale('log')\n",
    "plt.xlim((0,20000))"
   ]
  },
  {
   "cell_type": "markdown",
   "metadata": {},
   "source": [
    "### Preparing Data"
   ]
  },
  {
   "cell_type": "code",
   "execution_count": 78,
   "metadata": {},
   "outputs": [],
   "source": [
    "#Normalize\n",
    "df['Amount'] = StandardScaler().fit_transform(df['Amount'].values.reshape(-1,1))\n",
    "\n",
    "X_train,X_test = train_test_split(df, test_size=0.2, random_state=42)\n",
    "X_train = X_train[X_train.Class == 0]\n",
    "X_train = X_train.drop(['Class'], axis=1)\n",
    "\n",
    "y_test = X_test['Class']\n",
    "X_test = X_test.drop(['Class'], axis=1)\n",
    "\n",
    "X_train = X_train.values\n",
    "X_test  = X_test.values"
   ]
  },
  {
   "cell_type": "code",
   "execution_count": 79,
   "metadata": {},
   "outputs": [
    {
     "data": {
      "text/plain": [
       "(227451, 29)"
      ]
     },
     "execution_count": 79,
     "metadata": {},
     "output_type": "execute_result"
    }
   ],
   "source": [
    "X_train.shape"
   ]
  },
  {
   "cell_type": "markdown",
   "metadata": {},
   "source": [
    "### Model"
   ]
  },
  {
   "cell_type": "code",
   "execution_count": 86,
   "metadata": {},
   "outputs": [],
   "source": [
    "input_dim = X_train.shape[1]\n",
    "encoding_dim=7\n",
    "\n",
    "input_layer = Input(shape=(input_dim,), )\n",
    "\n",
    "encoder_1 = Dense(2*encoding_dim, activation=\"tanh\" )(input_layer)\n",
    "encoder_2 = Dense(encoding_dim, activation='relu')(encoder_1)\n",
    "\n",
    "decoder_1 = Dense(encoding_dim, activation='relu')(encoder_2)\n",
    "decoder_2 = Dense(2*encoding_dim, activation='tanh')(decoder_1)\n",
    "out = Dense(input_dim)(decoder_2)\n",
    "\n",
    "auto_encoder = Model(inputs=input_layer, outputs=out)"
   ]
  },
  {
   "cell_type": "markdown",
   "metadata": {},
   "source": [
    "### Training"
   ]
  },
  {
   "cell_type": "code",
   "execution_count": 89,
   "metadata": {},
   "outputs": [
    {
     "name": "stdout",
     "output_type": "stream",
     "text": [
      "Train on 227451 samples, validate on 56962 samples\n",
      "Epoch 1/500\n",
      "227451/227451 [==============================] - 21s 91us/step - loss: 0.3000 - acc: 0.6788 - val_loss: 0.3334 - val_acc: 0.6723\n",
      "Epoch 2/500\n",
      "227451/227451 [==============================] - 21s 91us/step - loss: 0.3028 - acc: 0.6783 - val_loss: 0.3317 - val_acc: 0.6831\n",
      "Epoch 3/500\n",
      "227451/227451 [==============================] - 21s 90us/step - loss: 0.3005 - acc: 0.6801 - val_loss: 0.3365 - val_acc: 0.6831\n",
      "Epoch 4/500\n",
      "227451/227451 [==============================] - 21s 90us/step - loss: 0.2993 - acc: 0.6795 - val_loss: 0.3383 - val_acc: 0.6863\n",
      "Epoch 5/500\n",
      "227451/227451 [==============================] - 21s 90us/step - loss: 0.3021 - acc: 0.6783 - val_loss: 0.3327 - val_acc: 0.6845\n",
      "Epoch 6/500\n",
      "227451/227451 [==============================] - 21s 90us/step - loss: 0.3007 - acc: 0.6782 - val_loss: 0.3314 - val_acc: 0.6830\n",
      "Epoch 7/500\n",
      "227451/227451 [==============================] - 21s 91us/step - loss: 0.2997 - acc: 0.6796 - val_loss: 0.3340 - val_acc: 0.6829\n",
      "Epoch 8/500\n",
      "227451/227451 [==============================] - 21s 90us/step - loss: 0.2999 - acc: 0.6804 - val_loss: 0.3329 - val_acc: 0.6845\n",
      "Epoch 9/500\n",
      "227451/227451 [==============================] - 21s 91us/step - loss: 0.3007 - acc: 0.6792 - val_loss: 0.3307 - val_acc: 0.6801\n",
      "Epoch 10/500\n",
      "227451/227451 [==============================] - 21s 90us/step - loss: 0.3003 - acc: 0.6791 - val_loss: 0.3312 - val_acc: 0.6792\n",
      "Epoch 11/500\n",
      "227451/227451 [==============================] - 21s 91us/step - loss: 0.3002 - acc: 0.6800 - val_loss: 0.3316 - val_acc: 0.6812\n",
      "Epoch 12/500\n",
      "227451/227451 [==============================] - 21s 91us/step - loss: 0.2996 - acc: 0.6797 - val_loss: 0.3326 - val_acc: 0.6886\n",
      "Epoch 13/500\n",
      "227451/227451 [==============================] - 21s 91us/step - loss: 0.3007 - acc: 0.6785 - val_loss: 0.3380 - val_acc: 0.6922\n",
      "Epoch 14/500\n",
      "227451/227451 [==============================] - 21s 90us/step - loss: 0.2999 - acc: 0.6797 - val_loss: 0.3318 - val_acc: 0.6818\n",
      "Epoch 15/500\n",
      "227451/227451 [==============================] - 21s 91us/step - loss: 0.2998 - acc: 0.6795 - val_loss: 0.3336 - val_acc: 0.6794\n",
      "Epoch 16/500\n",
      "227451/227451 [==============================] - 21s 92us/step - loss: 0.2996 - acc: 0.6797 - val_loss: 0.3362 - val_acc: 0.6858\n",
      "Epoch 17/500\n",
      "227451/227451 [==============================] - 21s 91us/step - loss: 0.2992 - acc: 0.6806 - val_loss: 0.3326 - val_acc: 0.6846\n",
      "Epoch 18/500\n",
      "227451/227451 [==============================] - 21s 91us/step - loss: 0.2999 - acc: 0.6801 - val_loss: 0.3303 - val_acc: 0.6793\n",
      "Epoch 19/500\n",
      "227451/227451 [==============================] - 21s 91us/step - loss: 0.2988 - acc: 0.6809 - val_loss: 0.3337 - val_acc: 0.6842\n",
      "Epoch 20/500\n",
      "227451/227451 [==============================] - 21s 91us/step - loss: 0.2997 - acc: 0.6804 - val_loss: 0.3327 - val_acc: 0.6743\n",
      "Epoch 21/500\n",
      "227451/227451 [==============================] - 21s 94us/step - loss: 0.2993 - acc: 0.6815 - val_loss: 0.3325 - val_acc: 0.6793\n",
      "Epoch 22/500\n",
      "227451/227451 [==============================] - 21s 93us/step - loss: 0.2990 - acc: 0.6807 - val_loss: 0.3299 - val_acc: 0.6796\n",
      "Epoch 23/500\n",
      "227451/227451 [==============================] - 21s 91us/step - loss: 0.2992 - acc: 0.6815 - val_loss: 0.3358 - val_acc: 0.6760\n",
      "Epoch 24/500\n",
      "227451/227451 [==============================] - 21s 91us/step - loss: 0.3003 - acc: 0.6808 - val_loss: 0.3407 - val_acc: 0.6827\n",
      "Epoch 25/500\n",
      "227451/227451 [==============================] - 21s 91us/step - loss: 0.2994 - acc: 0.6804 - val_loss: 0.3328 - val_acc: 0.6705\n",
      "Epoch 26/500\n",
      "227451/227451 [==============================] - 21s 91us/step - loss: 0.2986 - acc: 0.6804 - val_loss: 0.3306 - val_acc: 0.6731\n",
      "Epoch 27/500\n",
      "227451/227451 [==============================] - 21s 91us/step - loss: 0.2995 - acc: 0.6806 - val_loss: 0.3325 - val_acc: 0.6846\n",
      "Epoch 28/500\n",
      "227451/227451 [==============================] - 21s 91us/step - loss: 0.3005 - acc: 0.6814 - val_loss: 0.3339 - val_acc: 0.6854\n",
      "Epoch 29/500\n",
      "227451/227451 [==============================] - 21s 91us/step - loss: 0.3004 - acc: 0.6807 - val_loss: 0.3502 - val_acc: 0.6662\n",
      "Epoch 30/500\n",
      "227451/227451 [==============================] - 21s 91us/step - loss: 0.3004 - acc: 0.6807 - val_loss: 0.3398 - val_acc: 0.6779\n",
      "Epoch 31/500\n",
      "227451/227451 [==============================] - 21s 91us/step - loss: 0.3000 - acc: 0.6805 - val_loss: 0.3353 - val_acc: 0.6846\n",
      "Epoch 32/500\n",
      "227451/227451 [==============================] - 21s 91us/step - loss: 0.2990 - acc: 0.6815 - val_loss: 0.3309 - val_acc: 0.6805\n",
      "Epoch 33/500\n",
      "227451/227451 [==============================] - 21s 91us/step - loss: 0.2999 - acc: 0.6811 - val_loss: 0.3485 - val_acc: 0.6785\n",
      "Epoch 34/500\n",
      "227451/227451 [==============================] - 21s 91us/step - loss: 0.2998 - acc: 0.6811 - val_loss: 0.3301 - val_acc: 0.6751\n",
      "Epoch 35/500\n",
      "227451/227451 [==============================] - 21s 91us/step - loss: 0.2982 - acc: 0.6823 - val_loss: 0.3308 - val_acc: 0.6773\n",
      "Epoch 36/500\n",
      "227451/227451 [==============================] - 21s 91us/step - loss: 0.2991 - acc: 0.6812 - val_loss: 0.3322 - val_acc: 0.6819\n",
      "Epoch 37/500\n",
      "227451/227451 [==============================] - 21s 91us/step - loss: 0.2984 - acc: 0.6818 - val_loss: 0.3313 - val_acc: 0.6806\n",
      "Epoch 38/500\n",
      "227451/227451 [==============================] - 21s 91us/step - loss: 0.2995 - acc: 0.6816 - val_loss: 0.3443 - val_acc: 0.6692\n",
      "Epoch 39/500\n",
      "227451/227451 [==============================] - 21s 91us/step - loss: 0.2972 - acc: 0.6820 - val_loss: 0.3303 - val_acc: 0.6802\n",
      "Epoch 40/500\n",
      "227451/227451 [==============================] - 21s 92us/step - loss: 0.2985 - acc: 0.6827 - val_loss: 0.3294 - val_acc: 0.6843\n",
      "Epoch 41/500\n",
      "227451/227451 [==============================] - 21s 91us/step - loss: 0.2984 - acc: 0.6824 - val_loss: 0.3312 - val_acc: 0.6741\n",
      "Epoch 42/500\n",
      "227451/227451 [==============================] - 21s 91us/step - loss: 0.2990 - acc: 0.6821 - val_loss: 0.3335 - val_acc: 0.6885\n",
      "Epoch 43/500\n",
      "227451/227451 [==============================] - 21s 91us/step - loss: 0.2998 - acc: 0.6821 - val_loss: 0.3304 - val_acc: 0.6893\n",
      "Epoch 44/500\n",
      "227451/227451 [==============================] - 21s 92us/step - loss: 0.2976 - acc: 0.6828 - val_loss: 0.3341 - val_acc: 0.6876\n",
      "Epoch 45/500\n",
      "227451/227451 [==============================] - 21s 91us/step - loss: 0.2983 - acc: 0.6830 - val_loss: 0.3280 - val_acc: 0.6866\n",
      "Epoch 46/500\n",
      "227451/227451 [==============================] - 21s 91us/step - loss: 0.2982 - acc: 0.6836 - val_loss: 0.3285 - val_acc: 0.6857\n",
      "Epoch 47/500\n",
      "227451/227451 [==============================] - 21s 91us/step - loss: 0.2982 - acc: 0.6823 - val_loss: 0.3337 - val_acc: 0.6776\n",
      "Epoch 48/500\n",
      "227451/227451 [==============================] - 21s 91us/step - loss: 0.2982 - acc: 0.6830 - val_loss: 0.3362 - val_acc: 0.6610\n",
      "Epoch 49/500\n",
      "227451/227451 [==============================] - 21s 92us/step - loss: 0.2977 - acc: 0.6833 - val_loss: 0.3282 - val_acc: 0.6882\n",
      "Epoch 50/500\n",
      "227451/227451 [==============================] - 21s 91us/step - loss: 0.3003 - acc: 0.6815 - val_loss: 0.3458 - val_acc: 0.6709\n",
      "Epoch 51/500\n",
      "227451/227451 [==============================] - 21s 91us/step - loss: 0.2989 - acc: 0.6832 - val_loss: 0.3462 - val_acc: 0.6852\n",
      "Epoch 52/500\n",
      "227451/227451 [==============================] - 21s 91us/step - loss: 0.2991 - acc: 0.6824 - val_loss: 0.3306 - val_acc: 0.6897\n",
      "Epoch 53/500\n",
      "227451/227451 [==============================] - 21s 91us/step - loss: 0.2984 - acc: 0.6830 - val_loss: 0.3325 - val_acc: 0.6823\n",
      "Epoch 54/500\n",
      "227451/227451 [==============================] - 21s 91us/step - loss: 0.2989 - acc: 0.6824 - val_loss: 0.3361 - val_acc: 0.6807\n",
      "Epoch 55/500\n",
      "227451/227451 [==============================] - 21s 91us/step - loss: 0.2983 - acc: 0.6839 - val_loss: 0.3274 - val_acc: 0.6795\n",
      "Epoch 56/500\n",
      "227451/227451 [==============================] - 21s 91us/step - loss: 0.3013 - acc: 0.6818 - val_loss: 0.3311 - val_acc: 0.6862\n",
      "Epoch 57/500\n",
      "227451/227451 [==============================] - 21s 91us/step - loss: 0.2988 - acc: 0.6846 - val_loss: 0.3326 - val_acc: 0.6889\n",
      "Epoch 58/500\n"
     ]
    },
    {
     "name": "stdout",
     "output_type": "stream",
     "text": [
      "227451/227451 [==============================] - 21s 91us/step - loss: 0.3013 - acc: 0.6822 - val_loss: 0.3409 - val_acc: 0.6805\n",
      "Epoch 59/500\n",
      "227451/227451 [==============================] - 21s 90us/step - loss: 0.2985 - acc: 0.6836 - val_loss: 0.3308 - val_acc: 0.6843\n",
      "Epoch 60/500\n",
      "227451/227451 [==============================] - 21s 90us/step - loss: 0.2984 - acc: 0.6832 - val_loss: 0.3372 - val_acc: 0.6812\n",
      "Epoch 61/500\n",
      "227451/227451 [==============================] - 21s 90us/step - loss: 0.2992 - acc: 0.6821 - val_loss: 0.3431 - val_acc: 0.6841\n",
      "Epoch 62/500\n",
      "227451/227451 [==============================] - 21s 90us/step - loss: 0.2987 - acc: 0.6844 - val_loss: 0.3410 - val_acc: 0.6818\n",
      "Epoch 63/500\n",
      "227451/227451 [==============================] - 21s 90us/step - loss: 0.2997 - acc: 0.6827 - val_loss: 0.3394 - val_acc: 0.6697\n",
      "Epoch 64/500\n",
      "227451/227451 [==============================] - 21s 90us/step - loss: 0.2983 - acc: 0.6835 - val_loss: 0.3327 - val_acc: 0.6840\n",
      "Epoch 65/500\n",
      "227451/227451 [==============================] - 21s 91us/step - loss: 0.2985 - acc: 0.6840 - val_loss: 0.3301 - val_acc: 0.6887\n",
      "Epoch 66/500\n",
      "227451/227451 [==============================] - 21s 91us/step - loss: 0.2976 - acc: 0.6844 - val_loss: 0.3316 - val_acc: 0.6838\n",
      "Epoch 67/500\n",
      "227451/227451 [==============================] - 21s 90us/step - loss: 0.2978 - acc: 0.6839 - val_loss: 0.3291 - val_acc: 0.6912\n",
      "Epoch 68/500\n",
      "227451/227451 [==============================] - 21s 90us/step - loss: 0.2974 - acc: 0.6854 - val_loss: 0.3324 - val_acc: 0.6862\n",
      "Epoch 69/500\n",
      "227451/227451 [==============================] - 21s 91us/step - loss: 0.2984 - acc: 0.6850 - val_loss: 0.3364 - val_acc: 0.6748\n",
      "Epoch 70/500\n",
      "227451/227451 [==============================] - 21s 91us/step - loss: 0.2995 - acc: 0.6834 - val_loss: 0.3390 - val_acc: 0.6825\n",
      "Epoch 71/500\n",
      "227451/227451 [==============================] - 21s 91us/step - loss: 0.2985 - acc: 0.6840 - val_loss: 0.3333 - val_acc: 0.6830\n",
      "Epoch 72/500\n",
      "227451/227451 [==============================] - 21s 90us/step - loss: 0.2995 - acc: 0.6837 - val_loss: 0.3364 - val_acc: 0.6865\n",
      "Epoch 73/500\n",
      "227451/227451 [==============================] - 21s 91us/step - loss: 0.2993 - acc: 0.6834 - val_loss: 0.3344 - val_acc: 0.6838\n",
      "Epoch 74/500\n",
      "227451/227451 [==============================] - 21s 90us/step - loss: 0.2982 - acc: 0.6843 - val_loss: 0.3517 - val_acc: 0.6108\n",
      "Epoch 75/500\n",
      "227451/227451 [==============================] - 21s 90us/step - loss: 0.2979 - acc: 0.6843 - val_loss: 0.3305 - val_acc: 0.6815\n",
      "Epoch 76/500\n",
      "227451/227451 [==============================] - 21s 91us/step - loss: 0.2988 - acc: 0.6843 - val_loss: 0.3348 - val_acc: 0.6819\n",
      "Epoch 77/500\n",
      "227451/227451 [==============================] - 21s 91us/step - loss: 0.2999 - acc: 0.6853 - val_loss: 0.3327 - val_acc: 0.6838\n",
      "Epoch 78/500\n",
      "227451/227451 [==============================] - 21s 90us/step - loss: 0.2983 - acc: 0.6851 - val_loss: 0.3364 - val_acc: 0.6897\n",
      "Epoch 79/500\n",
      "227451/227451 [==============================] - 21s 90us/step - loss: 0.2989 - acc: 0.6851 - val_loss: 0.3289 - val_acc: 0.6904\n",
      "Epoch 80/500\n",
      "227451/227451 [==============================] - 21s 90us/step - loss: 0.3002 - acc: 0.6833 - val_loss: 0.3358 - val_acc: 0.6790\n",
      "Epoch 81/500\n",
      "227451/227451 [==============================] - 21s 90us/step - loss: 0.2983 - acc: 0.6843 - val_loss: 0.3474 - val_acc: 0.6642\n",
      "Epoch 82/500\n",
      "227451/227451 [==============================] - 21s 91us/step - loss: 0.3001 - acc: 0.6836 - val_loss: 0.3294 - val_acc: 0.6873\n",
      "Epoch 83/500\n",
      "227451/227451 [==============================] - 21s 91us/step - loss: 0.2995 - acc: 0.6836 - val_loss: 0.3346 - val_acc: 0.6887\n",
      "Epoch 84/500\n",
      "227451/227451 [==============================] - 21s 90us/step - loss: 0.2976 - acc: 0.6853 - val_loss: 0.3346 - val_acc: 0.6847\n",
      "Epoch 85/500\n",
      "227451/227451 [==============================] - 21s 91us/step - loss: 0.2992 - acc: 0.6847 - val_loss: 0.3348 - val_acc: 0.6789\n",
      "Epoch 86/500\n",
      "227451/227451 [==============================] - 21s 91us/step - loss: 0.2985 - acc: 0.6855 - val_loss: 0.3493 - val_acc: 0.6661\n",
      "Epoch 87/500\n",
      "227451/227451 [==============================] - 21s 91us/step - loss: 0.3007 - acc: 0.6845 - val_loss: 0.3304 - val_acc: 0.6898\n",
      "Epoch 88/500\n",
      "227451/227451 [==============================] - 20s 90us/step - loss: 0.2988 - acc: 0.6842 - val_loss: 0.3388 - val_acc: 0.6740\n",
      "Epoch 89/500\n",
      "227451/227451 [==============================] - 21s 90us/step - loss: 0.2971 - acc: 0.6848 - val_loss: 0.3255 - val_acc: 0.6874\n",
      "Epoch 90/500\n",
      "227451/227451 [==============================] - 21s 91us/step - loss: 0.2967 - acc: 0.6848 - val_loss: 0.3358 - val_acc: 0.6806\n",
      "Epoch 91/500\n",
      "227451/227451 [==============================] - 21s 91us/step - loss: 0.2976 - acc: 0.6849 - val_loss: 0.3410 - val_acc: 0.6815\n",
      "Epoch 92/500\n",
      "227451/227451 [==============================] - 21s 90us/step - loss: 0.2986 - acc: 0.6840 - val_loss: 0.3286 - val_acc: 0.6846\n",
      "Epoch 93/500\n",
      "227451/227451 [==============================] - 21s 90us/step - loss: 0.2999 - acc: 0.6842 - val_loss: 0.3279 - val_acc: 0.6914\n",
      "Epoch 94/500\n",
      "227451/227451 [==============================] - 20s 90us/step - loss: 0.2972 - acc: 0.6854 - val_loss: 0.3279 - val_acc: 0.6906\n",
      "Epoch 95/500\n",
      "227451/227451 [==============================] - 21s 91us/step - loss: 0.2970 - acc: 0.6849 - val_loss: 0.3286 - val_acc: 0.6906\n",
      "Epoch 96/500\n",
      "227451/227451 [==============================] - 21s 91us/step - loss: 0.2987 - acc: 0.6831 - val_loss: 0.3273 - val_acc: 0.6919\n",
      "Epoch 97/500\n",
      "227451/227451 [==============================] - 21s 93us/step - loss: 0.2959 - acc: 0.6857 - val_loss: 0.3270 - val_acc: 0.6887\n",
      "Epoch 98/500\n",
      "227451/227451 [==============================] - 20s 89us/step - loss: 0.2978 - acc: 0.6848 - val_loss: 0.3306 - val_acc: 0.6890\n",
      "Epoch 99/500\n",
      "227451/227451 [==============================] - 20s 89us/step - loss: 0.2978 - acc: 0.6852 - val_loss: 0.3268 - val_acc: 0.6922\n",
      "Epoch 100/500\n",
      "227451/227451 [==============================] - 20s 89us/step - loss: 0.2971 - acc: 0.6860 - val_loss: 0.3270 - val_acc: 0.6936\n",
      "Epoch 101/500\n",
      "227451/227451 [==============================] - 20s 90us/step - loss: 0.2963 - acc: 0.6858 - val_loss: 0.3296 - val_acc: 0.6882\n",
      "Epoch 102/500\n",
      "227451/227451 [==============================] - 20s 89us/step - loss: 0.2979 - acc: 0.6843 - val_loss: 0.3344 - val_acc: 0.6833\n",
      "Epoch 103/500\n",
      "227451/227451 [==============================] - 20s 89us/step - loss: 0.2965 - acc: 0.6848 - val_loss: 0.3340 - val_acc: 0.6786\n",
      "Epoch 104/500\n",
      "227451/227451 [==============================] - 21s 92us/step - loss: 0.2979 - acc: 0.6853 - val_loss: 0.3375 - val_acc: 0.6772\n",
      "Epoch 105/500\n",
      "227451/227451 [==============================] - 21s 91us/step - loss: 0.2977 - acc: 0.6856 - val_loss: 0.3497 - val_acc: 0.6451\n",
      "Epoch 106/500\n",
      "227451/227451 [==============================] - 21s 92us/step - loss: 0.2966 - acc: 0.6853 - val_loss: 0.3310 - val_acc: 0.6807\n",
      "Epoch 107/500\n",
      "227451/227451 [==============================] - 21s 93us/step - loss: 0.2967 - acc: 0.6852 - val_loss: 0.3328 - val_acc: 0.6764\n",
      "Epoch 108/500\n",
      "227451/227451 [==============================] - 21s 94us/step - loss: 0.2959 - acc: 0.6861 - val_loss: 0.3263 - val_acc: 0.6888\n",
      "Epoch 109/500\n",
      "227451/227451 [==============================] - 21s 93us/step - loss: 0.2957 - acc: 0.6860 - val_loss: 0.3289 - val_acc: 0.6890\n",
      "Epoch 110/500\n",
      "227451/227451 [==============================] - 21s 92us/step - loss: 0.2972 - acc: 0.6856 - val_loss: 0.3291 - val_acc: 0.6910\n",
      "Epoch 111/500\n",
      "227451/227451 [==============================] - 21s 92us/step - loss: 0.2975 - acc: 0.6849 - val_loss: 0.3300 - val_acc: 0.6786\n",
      "Epoch 112/500\n",
      "227451/227451 [==============================] - 21s 92us/step - loss: 0.2971 - acc: 0.6863 - val_loss: 0.3264 - val_acc: 0.6925\n",
      "Epoch 113/500\n",
      "227451/227451 [==============================] - 21s 92us/step - loss: 0.2962 - acc: 0.6861 - val_loss: 0.3298 - val_acc: 0.6843\n",
      "Epoch 114/500\n",
      "227451/227451 [==============================] - 21s 92us/step - loss: 0.2980 - acc: 0.6837 - val_loss: 0.3279 - val_acc: 0.6963\n",
      "Epoch 115/500\n"
     ]
    },
    {
     "name": "stdout",
     "output_type": "stream",
     "text": [
      "227451/227451 [==============================] - 21s 91us/step - loss: 0.2970 - acc: 0.6860 - val_loss: 0.3269 - val_acc: 0.6909\n",
      "Epoch 116/500\n",
      "227451/227451 [==============================] - 21s 90us/step - loss: 0.2964 - acc: 0.6853 - val_loss: 0.3397 - val_acc: 0.6891\n",
      "Epoch 117/500\n",
      "227451/227451 [==============================] - 21s 90us/step - loss: 0.2958 - acc: 0.6868 - val_loss: 0.3432 - val_acc: 0.6793\n",
      "Epoch 118/500\n",
      "227451/227451 [==============================] - 20s 90us/step - loss: 0.2980 - acc: 0.6851 - val_loss: 0.3282 - val_acc: 0.6892\n",
      "Epoch 119/500\n",
      "227451/227451 [==============================] - 20s 90us/step - loss: 0.2953 - acc: 0.6871 - val_loss: 0.3290 - val_acc: 0.6854\n",
      "Epoch 120/500\n",
      "227451/227451 [==============================] - 21s 91us/step - loss: 0.2963 - acc: 0.6862 - val_loss: 0.3342 - val_acc: 0.6837\n",
      "Epoch 121/500\n",
      "227451/227451 [==============================] - 20s 88us/step - loss: 0.2960 - acc: 0.6867 - val_loss: 0.3250 - val_acc: 0.6887\n",
      "Epoch 122/500\n",
      "227451/227451 [==============================] - 20s 89us/step - loss: 0.2975 - acc: 0.6862 - val_loss: 0.3294 - val_acc: 0.6905\n",
      "Epoch 123/500\n",
      "227451/227451 [==============================] - 20s 89us/step - loss: 0.2949 - acc: 0.6870 - val_loss: 0.3341 - val_acc: 0.6824\n",
      "Epoch 124/500\n",
      "227451/227451 [==============================] - 20s 88us/step - loss: 0.2969 - acc: 0.6868 - val_loss: 0.3303 - val_acc: 0.6896\n",
      "Epoch 125/500\n",
      "227451/227451 [==============================] - 20s 89us/step - loss: 0.2951 - acc: 0.6875 - val_loss: 0.3323 - val_acc: 0.6939\n",
      "Epoch 126/500\n",
      "227451/227451 [==============================] - 21s 90us/step - loss: 0.2983 - acc: 0.6847 - val_loss: 0.3305 - val_acc: 0.6933\n",
      "Epoch 127/500\n",
      "227451/227451 [==============================] - 21s 90us/step - loss: 0.2950 - acc: 0.6870 - val_loss: 0.3299 - val_acc: 0.6869\n",
      "Epoch 128/500\n",
      "227451/227451 [==============================] - 21s 91us/step - loss: 0.2954 - acc: 0.6869 - val_loss: 0.3311 - val_acc: 0.6834\n",
      "Epoch 129/500\n",
      "227451/227451 [==============================] - 21s 91us/step - loss: 0.2955 - acc: 0.6873 - val_loss: 0.3262 - val_acc: 0.6928\n",
      "Epoch 130/500\n",
      "227451/227451 [==============================] - 20s 90us/step - loss: 0.2979 - acc: 0.6855 - val_loss: 0.3242 - val_acc: 0.6959\n",
      "Epoch 131/500\n",
      "227451/227451 [==============================] - 21s 91us/step - loss: 0.2947 - acc: 0.6864 - val_loss: 0.3320 - val_acc: 0.6796\n",
      "Epoch 132/500\n",
      "227451/227451 [==============================] - 21s 90us/step - loss: 0.2947 - acc: 0.6865 - val_loss: 0.3268 - val_acc: 0.6934\n",
      "Epoch 133/500\n",
      "227451/227451 [==============================] - 21s 91us/step - loss: 0.2955 - acc: 0.6873 - val_loss: 0.3284 - val_acc: 0.6864\n",
      "Epoch 134/500\n",
      "227451/227451 [==============================] - 21s 91us/step - loss: 0.2959 - acc: 0.6862 - val_loss: 0.3278 - val_acc: 0.6924\n",
      "Epoch 135/500\n",
      "227451/227451 [==============================] - 21s 90us/step - loss: 0.2965 - acc: 0.6863 - val_loss: 0.3285 - val_acc: 0.6924\n",
      "Epoch 136/500\n",
      "227451/227451 [==============================] - 21s 91us/step - loss: 0.2953 - acc: 0.6866 - val_loss: 0.3264 - val_acc: 0.6942\n",
      "Epoch 137/500\n",
      "227451/227451 [==============================] - 20s 90us/step - loss: 0.2956 - acc: 0.6864 - val_loss: 0.3289 - val_acc: 0.6808\n",
      "Epoch 138/500\n",
      "227451/227451 [==============================] - 21s 91us/step - loss: 0.2962 - acc: 0.6854 - val_loss: 0.3282 - val_acc: 0.6934\n",
      "Epoch 139/500\n",
      "227451/227451 [==============================] - 20s 90us/step - loss: 0.2952 - acc: 0.6865 - val_loss: 0.3299 - val_acc: 0.6925\n",
      "Epoch 140/500\n",
      "227451/227451 [==============================] - 21s 90us/step - loss: 0.2956 - acc: 0.6865 - val_loss: 0.3307 - val_acc: 0.6851\n",
      "Epoch 141/500\n",
      "227451/227451 [==============================] - 21s 90us/step - loss: 0.2957 - acc: 0.6855 - val_loss: 0.3388 - val_acc: 0.6592\n",
      "Epoch 142/500\n",
      "227451/227451 [==============================] - 20s 90us/step - loss: 0.2948 - acc: 0.6858 - val_loss: 0.3285 - val_acc: 0.6844\n",
      "Epoch 143/500\n",
      "227451/227451 [==============================] - 21s 90us/step - loss: 0.2945 - acc: 0.6872 - val_loss: 0.3279 - val_acc: 0.6805\n",
      "Epoch 144/500\n",
      "227451/227451 [==============================] - 21s 91us/step - loss: 0.2950 - acc: 0.6864 - val_loss: 0.3254 - val_acc: 0.6919\n",
      "Epoch 145/500\n",
      "227451/227451 [==============================] - 21s 91us/step - loss: 0.2958 - acc: 0.6861 - val_loss: 0.3261 - val_acc: 0.6719\n",
      "Epoch 146/500\n",
      "227451/227451 [==============================] - 21s 91us/step - loss: 0.2961 - acc: 0.6864 - val_loss: 0.3445 - val_acc: 0.6747\n",
      "Epoch 147/500\n",
      "227451/227451 [==============================] - 21s 91us/step - loss: 0.2975 - acc: 0.6856 - val_loss: 0.3267 - val_acc: 0.6859\n",
      "Epoch 148/500\n",
      "227451/227451 [==============================] - 20s 90us/step - loss: 0.2949 - acc: 0.6866 - val_loss: 0.3279 - val_acc: 0.6891\n",
      "Epoch 149/500\n",
      "227451/227451 [==============================] - 21s 91us/step - loss: 0.2943 - acc: 0.6864 - val_loss: 0.3401 - val_acc: 0.6791\n",
      "Epoch 150/500\n",
      "227451/227451 [==============================] - 21s 90us/step - loss: 0.2943 - acc: 0.6872 - val_loss: 0.3431 - val_acc: 0.6863\n",
      "Epoch 151/500\n",
      "227451/227451 [==============================] - 21s 90us/step - loss: 0.2952 - acc: 0.6859 - val_loss: 0.3309 - val_acc: 0.6832\n",
      "Epoch 152/500\n",
      "227451/227451 [==============================] - 21s 91us/step - loss: 0.2941 - acc: 0.6868 - val_loss: 0.3257 - val_acc: 0.6892\n",
      "Epoch 153/500\n",
      "227451/227451 [==============================] - 21s 91us/step - loss: 0.2965 - acc: 0.6858 - val_loss: 0.3279 - val_acc: 0.6845\n",
      "Epoch 154/500\n",
      "227451/227451 [==============================] - 21s 91us/step - loss: 0.2938 - acc: 0.6872 - val_loss: 0.3270 - val_acc: 0.6909\n",
      "Epoch 155/500\n",
      "227451/227451 [==============================] - 21s 91us/step - loss: 0.2945 - acc: 0.6864 - val_loss: 0.3288 - val_acc: 0.6752\n",
      "Epoch 156/500\n",
      "227451/227451 [==============================] - 21s 91us/step - loss: 0.2942 - acc: 0.6860 - val_loss: 0.3264 - val_acc: 0.6825\n",
      "Epoch 157/500\n",
      "227451/227451 [==============================] - 21s 91us/step - loss: 0.2950 - acc: 0.6858 - val_loss: 0.3248 - val_acc: 0.6940\n",
      "Epoch 158/500\n",
      "227451/227451 [==============================] - 21s 90us/step - loss: 0.2950 - acc: 0.6866 - val_loss: 0.3276 - val_acc: 0.6851\n",
      "Epoch 159/500\n",
      "227451/227451 [==============================] - 21s 90us/step - loss: 0.2946 - acc: 0.6872 - val_loss: 0.3304 - val_acc: 0.6866\n",
      "Epoch 160/500\n",
      "227451/227451 [==============================] - 21s 91us/step - loss: 0.2942 - acc: 0.6862 - val_loss: 0.3328 - val_acc: 0.6873\n",
      "Epoch 161/500\n",
      "227451/227451 [==============================] - 21s 92us/step - loss: 0.2942 - acc: 0.6874 - val_loss: 0.3336 - val_acc: 0.6903\n",
      "Epoch 162/500\n",
      "227451/227451 [==============================] - 21s 91us/step - loss: 0.2950 - acc: 0.6852 - val_loss: 0.3263 - val_acc: 0.6854\n",
      "Epoch 163/500\n",
      "227451/227451 [==============================] - 21s 91us/step - loss: 0.2947 - acc: 0.6863 - val_loss: 0.3241 - val_acc: 0.6848\n",
      "Epoch 164/500\n",
      "227451/227451 [==============================] - 20s 88us/step - loss: 0.2935 - acc: 0.6870 - val_loss: 0.3270 - val_acc: 0.6829\n",
      "Epoch 165/500\n",
      "227451/227451 [==============================] - 20s 89us/step - loss: 0.2937 - acc: 0.6865 - val_loss: 0.3327 - val_acc: 0.6773\n",
      "Epoch 166/500\n",
      "227451/227451 [==============================] - 21s 91us/step - loss: 0.2951 - acc: 0.6862 - val_loss: 0.3261 - val_acc: 0.6777\n",
      "Epoch 167/500\n",
      "227451/227451 [==============================] - 21s 91us/step - loss: 0.2937 - acc: 0.6866 - val_loss: 0.3278 - val_acc: 0.6843\n",
      "Epoch 168/500\n",
      "227451/227451 [==============================] - 21s 91us/step - loss: 0.2960 - acc: 0.6848 - val_loss: 0.3366 - val_acc: 0.6813\n",
      "Epoch 169/500\n",
      "227451/227451 [==============================] - 21s 91us/step - loss: 0.2945 - acc: 0.6862 - val_loss: 0.3251 - val_acc: 0.6934\n",
      "Epoch 170/500\n",
      "227451/227451 [==============================] - 20s 90us/step - loss: 0.2940 - acc: 0.6864 - val_loss: 0.3420 - val_acc: 0.6773\n",
      "Epoch 171/500\n",
      "227451/227451 [==============================] - 21s 90us/step - loss: 0.2963 - acc: 0.6860 - val_loss: 0.3278 - val_acc: 0.6941\n",
      "Epoch 172/500\n"
     ]
    },
    {
     "name": "stdout",
     "output_type": "stream",
     "text": [
      "227451/227451 [==============================] - 21s 90us/step - loss: 0.2954 - acc: 0.6860 - val_loss: 0.3283 - val_acc: 0.6842\n",
      "Epoch 173/500\n",
      "227451/227451 [==============================] - 20s 90us/step - loss: 0.2953 - acc: 0.6855 - val_loss: 0.3288 - val_acc: 0.6806\n",
      "Epoch 174/500\n",
      "227451/227451 [==============================] - 21s 90us/step - loss: 0.2937 - acc: 0.6871 - val_loss: 0.3240 - val_acc: 0.6918\n",
      "Epoch 175/500\n",
      "227451/227451 [==============================] - 21s 90us/step - loss: 0.2943 - acc: 0.6863 - val_loss: 0.3231 - val_acc: 0.6904\n",
      "Epoch 176/500\n",
      "227451/227451 [==============================] - 21s 90us/step - loss: 0.2948 - acc: 0.6862 - val_loss: 0.3378 - val_acc: 0.6817\n",
      "Epoch 177/500\n",
      "227451/227451 [==============================] - 21s 91us/step - loss: 0.2940 - acc: 0.6864 - val_loss: 0.3258 - val_acc: 0.6819\n",
      "Epoch 178/500\n",
      "227451/227451 [==============================] - 21s 91us/step - loss: 0.2947 - acc: 0.6863 - val_loss: 0.3242 - val_acc: 0.6915\n",
      "Epoch 179/500\n",
      "227451/227451 [==============================] - 21s 90us/step - loss: 0.2950 - acc: 0.6855 - val_loss: 0.3283 - val_acc: 0.6897\n",
      "Epoch 180/500\n",
      "227451/227451 [==============================] - 20s 90us/step - loss: 0.2949 - acc: 0.6868 - val_loss: 0.3285 - val_acc: 0.6848\n",
      "Epoch 181/500\n",
      "227451/227451 [==============================] - 20s 88us/step - loss: 0.2935 - acc: 0.6872 - val_loss: 0.3306 - val_acc: 0.6794\n",
      "Epoch 182/500\n",
      "227451/227451 [==============================] - 20s 89us/step - loss: 0.2936 - acc: 0.6857 - val_loss: 0.3274 - val_acc: 0.6941\n",
      "Epoch 183/500\n",
      "227451/227451 [==============================] - 20s 88us/step - loss: 0.2949 - acc: 0.6865 - val_loss: 0.3338 - val_acc: 0.6784\n",
      "Epoch 184/500\n",
      "227451/227451 [==============================] - 20s 88us/step - loss: 0.2945 - acc: 0.6868 - val_loss: 0.3238 - val_acc: 0.6888\n",
      "Epoch 185/500\n",
      "227451/227451 [==============================] - 20s 88us/step - loss: 0.2958 - acc: 0.6854 - val_loss: 0.3368 - val_acc: 0.6885\n",
      "Epoch 186/500\n",
      "227451/227451 [==============================] - 20s 89us/step - loss: 0.2930 - acc: 0.6872 - val_loss: 0.3329 - val_acc: 0.6826\n",
      "Epoch 187/500\n",
      "227451/227451 [==============================] - 20s 88us/step - loss: 0.2945 - acc: 0.6867 - val_loss: 0.3238 - val_acc: 0.6873\n",
      "Epoch 188/500\n",
      "227451/227451 [==============================] - 20s 88us/step - loss: 0.2941 - acc: 0.6868 - val_loss: 0.3688 - val_acc: 0.6439\n",
      "Epoch 189/500\n",
      "227451/227451 [==============================] - 20s 88us/step - loss: 0.2946 - acc: 0.6865 - val_loss: 0.3254 - val_acc: 0.6916\n",
      "Epoch 190/500\n",
      "227451/227451 [==============================] - 20s 88us/step - loss: 0.2954 - acc: 0.6855 - val_loss: 0.3252 - val_acc: 0.6837\n",
      "Epoch 191/500\n",
      "227451/227451 [==============================] - 20s 88us/step - loss: 0.2942 - acc: 0.6866 - val_loss: 0.3312 - val_acc: 0.6819\n",
      "Epoch 192/500\n",
      "227451/227451 [==============================] - 20s 89us/step - loss: 0.2940 - acc: 0.6866 - val_loss: 0.3517 - val_acc: 0.6741\n",
      "Epoch 193/500\n",
      "227451/227451 [==============================] - 21s 91us/step - loss: 0.2942 - acc: 0.6856 - val_loss: 0.3262 - val_acc: 0.6933\n",
      "Epoch 194/500\n",
      "227451/227451 [==============================] - 21s 91us/step - loss: 0.2940 - acc: 0.6869 - val_loss: 0.3251 - val_acc: 0.6843\n",
      "Epoch 195/500\n",
      "227451/227451 [==============================] - 21s 91us/step - loss: 0.2935 - acc: 0.6869 - val_loss: 0.3253 - val_acc: 0.6905\n",
      "Epoch 196/500\n",
      "227451/227451 [==============================] - 21s 91us/step - loss: 0.2937 - acc: 0.6864 - val_loss: 0.3285 - val_acc: 0.6835\n",
      "Epoch 197/500\n",
      "227451/227451 [==============================] - 21s 90us/step - loss: 0.2946 - acc: 0.6864 - val_loss: 0.3273 - val_acc: 0.6881\n",
      "Epoch 198/500\n",
      "227451/227451 [==============================] - 21s 90us/step - loss: 0.2933 - acc: 0.6866 - val_loss: 0.3265 - val_acc: 0.6839\n",
      "Epoch 199/500\n",
      "227451/227451 [==============================] - 21s 90us/step - loss: 0.2931 - acc: 0.6851 - val_loss: 0.3296 - val_acc: 0.6842\n",
      "Epoch 200/500\n",
      "227451/227451 [==============================] - 21s 91us/step - loss: 0.2936 - acc: 0.6868 - val_loss: 0.3275 - val_acc: 0.6836\n",
      "Epoch 201/500\n",
      "227451/227451 [==============================] - 21s 91us/step - loss: 0.2946 - acc: 0.6856 - val_loss: 0.3353 - val_acc: 0.6799\n",
      "Epoch 202/500\n",
      "227451/227451 [==============================] - 21s 90us/step - loss: 0.2947 - acc: 0.6868 - val_loss: 0.3253 - val_acc: 0.6829\n",
      "Epoch 203/500\n",
      "227451/227451 [==============================] - 21s 90us/step - loss: 0.2939 - acc: 0.6862 - val_loss: 0.3299 - val_acc: 0.6654\n",
      "Epoch 204/500\n",
      "227451/227451 [==============================] - 20s 90us/step - loss: 0.2937 - acc: 0.6874 - val_loss: 0.3272 - val_acc: 0.6924\n",
      "Epoch 205/500\n",
      "227451/227451 [==============================] - 21s 92us/step - loss: 0.2960 - acc: 0.6862 - val_loss: 0.3322 - val_acc: 0.6912\n",
      "Epoch 206/500\n",
      "227451/227451 [==============================] - 21s 91us/step - loss: 0.2939 - acc: 0.6868 - val_loss: 0.3267 - val_acc: 0.6872\n",
      "Epoch 207/500\n",
      "227451/227451 [==============================] - 20s 90us/step - loss: 0.2952 - acc: 0.6850 - val_loss: 0.3272 - val_acc: 0.6796\n",
      "Epoch 208/500\n",
      "227451/227451 [==============================] - 21s 90us/step - loss: 0.2935 - acc: 0.6862 - val_loss: 0.3303 - val_acc: 0.6716\n",
      "Epoch 209/500\n",
      "227451/227451 [==============================] - 20s 90us/step - loss: 0.2935 - acc: 0.6859 - val_loss: 0.3287 - val_acc: 0.6886\n",
      "Epoch 210/500\n",
      "227451/227451 [==============================] - 20s 90us/step - loss: 0.2940 - acc: 0.6856 - val_loss: 0.3314 - val_acc: 0.6816\n",
      "Epoch 211/500\n",
      "227451/227451 [==============================] - 21s 90us/step - loss: 0.2936 - acc: 0.6866 - val_loss: 0.3257 - val_acc: 0.6908\n",
      "Epoch 212/500\n",
      "227451/227451 [==============================] - 21s 90us/step - loss: 0.2936 - acc: 0.6869 - val_loss: 0.3254 - val_acc: 0.6854\n",
      "Epoch 213/500\n",
      "227451/227451 [==============================] - 20s 90us/step - loss: 0.2945 - acc: 0.6865 - val_loss: 0.3261 - val_acc: 0.6913\n",
      "Epoch 214/500\n",
      "227451/227451 [==============================] - 21s 91us/step - loss: 0.2944 - acc: 0.6874 - val_loss: 0.3221 - val_acc: 0.6900\n",
      "Epoch 215/500\n",
      "227451/227451 [==============================] - 21s 92us/step - loss: 0.2941 - acc: 0.6863 - val_loss: 0.3315 - val_acc: 0.6748\n",
      "Epoch 216/500\n",
      "227451/227451 [==============================] - 21s 91us/step - loss: 0.2936 - acc: 0.6860 - val_loss: 0.3254 - val_acc: 0.6933\n",
      "Epoch 217/500\n",
      "227451/227451 [==============================] - 21s 91us/step - loss: 0.2941 - acc: 0.6852 - val_loss: 0.3424 - val_acc: 0.6713\n",
      "Epoch 218/500\n",
      "227451/227451 [==============================] - 21s 91us/step - loss: 0.2940 - acc: 0.6855 - val_loss: 0.3241 - val_acc: 0.6957\n",
      "Epoch 219/500\n",
      "227451/227451 [==============================] - 21s 91us/step - loss: 0.2948 - acc: 0.6872 - val_loss: 0.3273 - val_acc: 0.6895\n",
      "Epoch 220/500\n",
      "227451/227451 [==============================] - 21s 90us/step - loss: 0.2955 - acc: 0.6853 - val_loss: 0.3254 - val_acc: 0.6904\n",
      "Epoch 221/500\n",
      "227451/227451 [==============================] - 21s 91us/step - loss: 0.2936 - acc: 0.6874 - val_loss: 0.3237 - val_acc: 0.6824\n",
      "Epoch 222/500\n",
      "227451/227451 [==============================] - 21s 91us/step - loss: 0.2946 - acc: 0.6864 - val_loss: 0.3340 - val_acc: 0.6844\n",
      "Epoch 223/500\n",
      "227451/227451 [==============================] - 21s 92us/step - loss: 0.2946 - acc: 0.6868 - val_loss: 0.3263 - val_acc: 0.6809\n",
      "Epoch 224/500\n",
      "106560/227451 [=============>................] - ETA: 10s - loss: 0.2883 - acc: 0.6868"
     ]
    },
    {
     "ename": "KeyboardInterrupt",
     "evalue": "",
     "output_type": "error",
     "traceback": [
      "\u001b[1;31m---------------------------------------------------------------------------\u001b[0m",
      "\u001b[1;31mKeyboardInterrupt\u001b[0m                         Traceback (most recent call last)",
      "\u001b[1;32m<ipython-input-89-41afcab9d601>\u001b[0m in \u001b[0;36m<module>\u001b[1;34m()\u001b[0m\n\u001b[0;32m     11\u001b[0m                  \u001b[0mshuffle\u001b[0m\u001b[1;33m=\u001b[0m\u001b[1;32mTrue\u001b[0m\u001b[1;33m,\u001b[0m\u001b[1;33m\u001b[0m\u001b[0m\n\u001b[0;32m     12\u001b[0m                  \u001b[0mverbose\u001b[0m\u001b[1;33m=\u001b[0m\u001b[1;36m1\u001b[0m\u001b[1;33m,\u001b[0m\u001b[1;33m\u001b[0m\u001b[0m\n\u001b[1;32m---> 13\u001b[1;33m                  validation_data=(X_test,X_test)).history\n\u001b[0m",
      "\u001b[1;32m~\\AppData\\Local\\conda\\conda\\envs\\mlenv\\lib\\site-packages\\keras\\engine\\training.py\u001b[0m in \u001b[0;36mfit\u001b[1;34m(self, x, y, batch_size, epochs, verbose, callbacks, validation_split, validation_data, shuffle, class_weight, sample_weight, initial_epoch, steps_per_epoch, validation_steps, **kwargs)\u001b[0m\n\u001b[0;32m   1035\u001b[0m                                         \u001b[0minitial_epoch\u001b[0m\u001b[1;33m=\u001b[0m\u001b[0minitial_epoch\u001b[0m\u001b[1;33m,\u001b[0m\u001b[1;33m\u001b[0m\u001b[0m\n\u001b[0;32m   1036\u001b[0m                                         \u001b[0msteps_per_epoch\u001b[0m\u001b[1;33m=\u001b[0m\u001b[0msteps_per_epoch\u001b[0m\u001b[1;33m,\u001b[0m\u001b[1;33m\u001b[0m\u001b[0m\n\u001b[1;32m-> 1037\u001b[1;33m                                         validation_steps=validation_steps)\n\u001b[0m\u001b[0;32m   1038\u001b[0m \u001b[1;33m\u001b[0m\u001b[0m\n\u001b[0;32m   1039\u001b[0m     def evaluate(self, x=None, y=None,\n",
      "\u001b[1;32m~\\AppData\\Local\\conda\\conda\\envs\\mlenv\\lib\\site-packages\\keras\\engine\\training_arrays.py\u001b[0m in \u001b[0;36mfit_loop\u001b[1;34m(model, f, ins, out_labels, batch_size, epochs, verbose, callbacks, val_f, val_ins, shuffle, callback_metrics, initial_epoch, steps_per_epoch, validation_steps)\u001b[0m\n\u001b[0;32m    197\u001b[0m                     \u001b[0mins_batch\u001b[0m\u001b[1;33m[\u001b[0m\u001b[0mi\u001b[0m\u001b[1;33m]\u001b[0m \u001b[1;33m=\u001b[0m \u001b[0mins_batch\u001b[0m\u001b[1;33m[\u001b[0m\u001b[0mi\u001b[0m\u001b[1;33m]\u001b[0m\u001b[1;33m.\u001b[0m\u001b[0mtoarray\u001b[0m\u001b[1;33m(\u001b[0m\u001b[1;33m)\u001b[0m\u001b[1;33m\u001b[0m\u001b[0m\n\u001b[0;32m    198\u001b[0m \u001b[1;33m\u001b[0m\u001b[0m\n\u001b[1;32m--> 199\u001b[1;33m                 \u001b[0mouts\u001b[0m \u001b[1;33m=\u001b[0m \u001b[0mf\u001b[0m\u001b[1;33m(\u001b[0m\u001b[0mins_batch\u001b[0m\u001b[1;33m)\u001b[0m\u001b[1;33m\u001b[0m\u001b[0m\n\u001b[0m\u001b[0;32m    200\u001b[0m                 \u001b[0mouts\u001b[0m \u001b[1;33m=\u001b[0m \u001b[0mto_list\u001b[0m\u001b[1;33m(\u001b[0m\u001b[0mouts\u001b[0m\u001b[1;33m)\u001b[0m\u001b[1;33m\u001b[0m\u001b[0m\n\u001b[0;32m    201\u001b[0m                 \u001b[1;32mfor\u001b[0m \u001b[0ml\u001b[0m\u001b[1;33m,\u001b[0m \u001b[0mo\u001b[0m \u001b[1;32min\u001b[0m \u001b[0mzip\u001b[0m\u001b[1;33m(\u001b[0m\u001b[0mout_labels\u001b[0m\u001b[1;33m,\u001b[0m \u001b[0mouts\u001b[0m\u001b[1;33m)\u001b[0m\u001b[1;33m:\u001b[0m\u001b[1;33m\u001b[0m\u001b[0m\n",
      "\u001b[1;32m~\\AppData\\Local\\conda\\conda\\envs\\mlenv\\lib\\site-packages\\keras\\backend\\tensorflow_backend.py\u001b[0m in \u001b[0;36m__call__\u001b[1;34m(self, inputs)\u001b[0m\n\u001b[0;32m   2664\u001b[0m                 \u001b[1;32mreturn\u001b[0m \u001b[0mself\u001b[0m\u001b[1;33m.\u001b[0m\u001b[0m_legacy_call\u001b[0m\u001b[1;33m(\u001b[0m\u001b[0minputs\u001b[0m\u001b[1;33m)\u001b[0m\u001b[1;33m\u001b[0m\u001b[0m\n\u001b[0;32m   2665\u001b[0m \u001b[1;33m\u001b[0m\u001b[0m\n\u001b[1;32m-> 2666\u001b[1;33m             \u001b[1;32mreturn\u001b[0m \u001b[0mself\u001b[0m\u001b[1;33m.\u001b[0m\u001b[0m_call\u001b[0m\u001b[1;33m(\u001b[0m\u001b[0minputs\u001b[0m\u001b[1;33m)\u001b[0m\u001b[1;33m\u001b[0m\u001b[0m\n\u001b[0m\u001b[0;32m   2667\u001b[0m         \u001b[1;32melse\u001b[0m\u001b[1;33m:\u001b[0m\u001b[1;33m\u001b[0m\u001b[0m\n\u001b[0;32m   2668\u001b[0m             \u001b[1;32mif\u001b[0m \u001b[0mpy_any\u001b[0m\u001b[1;33m(\u001b[0m\u001b[0mis_tensor\u001b[0m\u001b[1;33m(\u001b[0m\u001b[0mx\u001b[0m\u001b[1;33m)\u001b[0m \u001b[1;32mfor\u001b[0m \u001b[0mx\u001b[0m \u001b[1;32min\u001b[0m \u001b[0minputs\u001b[0m\u001b[1;33m)\u001b[0m\u001b[1;33m:\u001b[0m\u001b[1;33m\u001b[0m\u001b[0m\n",
      "\u001b[1;32m~\\AppData\\Local\\conda\\conda\\envs\\mlenv\\lib\\site-packages\\keras\\backend\\tensorflow_backend.py\u001b[0m in \u001b[0;36m_call\u001b[1;34m(self, inputs)\u001b[0m\n\u001b[0;32m   2634\u001b[0m                                 \u001b[0msymbol_vals\u001b[0m\u001b[1;33m,\u001b[0m\u001b[1;33m\u001b[0m\u001b[0m\n\u001b[0;32m   2635\u001b[0m                                 session)\n\u001b[1;32m-> 2636\u001b[1;33m         \u001b[0mfetched\u001b[0m \u001b[1;33m=\u001b[0m \u001b[0mself\u001b[0m\u001b[1;33m.\u001b[0m\u001b[0m_callable_fn\u001b[0m\u001b[1;33m(\u001b[0m\u001b[1;33m*\u001b[0m\u001b[0marray_vals\u001b[0m\u001b[1;33m)\u001b[0m\u001b[1;33m\u001b[0m\u001b[0m\n\u001b[0m\u001b[0;32m   2637\u001b[0m         \u001b[1;32mreturn\u001b[0m \u001b[0mfetched\u001b[0m\u001b[1;33m[\u001b[0m\u001b[1;33m:\u001b[0m\u001b[0mlen\u001b[0m\u001b[1;33m(\u001b[0m\u001b[0mself\u001b[0m\u001b[1;33m.\u001b[0m\u001b[0moutputs\u001b[0m\u001b[1;33m)\u001b[0m\u001b[1;33m]\u001b[0m\u001b[1;33m\u001b[0m\u001b[0m\n\u001b[0;32m   2638\u001b[0m \u001b[1;33m\u001b[0m\u001b[0m\n",
      "\u001b[1;32m~\\AppData\\Local\\conda\\conda\\envs\\mlenv\\lib\\site-packages\\tensorflow\\python\\client\\session.py\u001b[0m in \u001b[0;36m__call__\u001b[1;34m(self, *args, **kwargs)\u001b[0m\n\u001b[0;32m   1380\u001b[0m           ret = tf_session.TF_SessionRunCallable(\n\u001b[0;32m   1381\u001b[0m               \u001b[0mself\u001b[0m\u001b[1;33m.\u001b[0m\u001b[0m_session\u001b[0m\u001b[1;33m.\u001b[0m\u001b[0m_session\u001b[0m\u001b[1;33m,\u001b[0m \u001b[0mself\u001b[0m\u001b[1;33m.\u001b[0m\u001b[0m_handle\u001b[0m\u001b[1;33m,\u001b[0m \u001b[0margs\u001b[0m\u001b[1;33m,\u001b[0m \u001b[0mstatus\u001b[0m\u001b[1;33m,\u001b[0m\u001b[1;33m\u001b[0m\u001b[0m\n\u001b[1;32m-> 1382\u001b[1;33m               run_metadata_ptr)\n\u001b[0m\u001b[0;32m   1383\u001b[0m         \u001b[1;32mif\u001b[0m \u001b[0mrun_metadata\u001b[0m\u001b[1;33m:\u001b[0m\u001b[1;33m\u001b[0m\u001b[0m\n\u001b[0;32m   1384\u001b[0m           \u001b[0mproto_data\u001b[0m \u001b[1;33m=\u001b[0m \u001b[0mtf_session\u001b[0m\u001b[1;33m.\u001b[0m\u001b[0mTF_GetBuffer\u001b[0m\u001b[1;33m(\u001b[0m\u001b[0mrun_metadata_ptr\u001b[0m\u001b[1;33m)\u001b[0m\u001b[1;33m\u001b[0m\u001b[0m\n",
      "\u001b[1;31mKeyboardInterrupt\u001b[0m: "
     ]
    }
   ],
   "source": [
    "auto_encoder.compile(optimizer='adam',loss='mean_squared_error',metrics= ['accuracy'])\n",
    "\n",
    "modelcheckpoint = ModelCheckpoint(filepath='save.h5',save_best_only=True)\n",
    "\n",
    "tensorboard = TensorBoard(log_dir='./log',histogram_freq=0)\n",
    "\n",
    "History = auto_encoder.fit(X_train,X_train, \n",
    "                 batch_size=32, \n",
    "                 epochs=500, \n",
    "                 callbacks=[tensorboard, modelcheckpoint],\n",
    "                 shuffle=True,\n",
    "                 verbose=1,\n",
    "                 validation_data=(X_test,X_test)).history"
   ]
  },
  {
   "cell_type": "code",
   "execution_count": 94,
   "metadata": {},
   "outputs": [],
   "source": [
    "model = load_model('save.h5')"
   ]
  },
  {
   "cell_type": "code",
   "execution_count": 97,
   "metadata": {},
   "outputs": [
    {
     "data": {
      "text/plain": [
       "<matplotlib.legend.Legend at 0x24bac888390>"
      ]
     },
     "execution_count": 97,
     "metadata": {},
     "output_type": "execute_result"
    },
    {
     "data": {
      "image/png": "[encoded data removed]",
      "text/plain": [
       "<Figure size 432x288 with 1 Axes>"
      ]
     },
     "metadata": {
      "needs_background": "light"
     },
     "output_type": "display_data"
    }
   ],
   "source": [
    "plt.plot(History['loss'])\n",
    "plt.plot(History['val_loss'])\n",
    "plt.xlabel('epoch')\n",
    "plt.ylabel('loss')\n",
    "plt.title('Erorr plot')\n",
    "plt.legend(['train','val'], loc='upper right')"
   ]
  },
  {
   "cell_type": "markdown",
   "metadata": {},
   "source": [
    "### Prediction\n",
    "Prediction - Since our model has learned to give very low error on normal transaction. When we pass a fraud transaction \n",
    "ideally it should give higher error. So, we set a threshold value if any transaction is higher that this value, \n",
    "we flag it as fraud."
   ]
  },
  {
   "cell_type": "code",
   "execution_count": 99,
   "metadata": {},
   "outputs": [],
   "source": [
    "predictions = model.predict(X_test)\n",
    "#error\n",
    "error = np.mean(np.power(X_test-predictions,2),axis=1)\n",
    "error_df = pd.DataFrame({\n",
    "    'error' : error,\n",
    "    'ground_truth' : y_test\n",
    "})"
   ]
  },
  {
   "cell_type": "code",
   "execution_count": 100,
   "metadata": {},
   "outputs": [
    {
     "data": {
      "image/png": "[encoded data removed]",
      "text/plain": [
       "<Figure size 432x288 with 1 Axes>"
      ]
     },
     "metadata": {
      "needs_background": "light"
     },
     "output_type": "display_data"
    }
   ],
   "source": [
    "#Precision, recall curve\n",
    "precision, recall, th = precision_recall_curve(error_df.ground_truth, error_df.error)\n",
    "plt.plot(recall, precision, 'b', label='Precision-Recall curve')\n",
    "plt.title('Recall vs Precision')\n",
    "plt.xlabel('Recall')\n",
    "plt.ylabel('Precision')\n",
    "plt.show()"
   ]
  },
  {
   "cell_type": "code",
   "execution_count": null,
   "metadata": {},
   "outputs": [],
   "source": [
    "threshold = 2.5\n",
    "y_pred = [1 if e > threshold else 0 for e in error_df.error.values]\n",
    "\n",
    "cmatrix = confusion_matrix(error_df.ground_truth.values , np.array(y_pred))"
   ]
  },
  {
   "cell_type": "code",
   "execution_count": 126,
   "metadata": {},
   "outputs": [
    {
     "data": {
      "image/png": "[encoded data removed]",
      "text/plain": [
       "<Figure size 432x288 with 2 Axes>"
      ]
     },
     "metadata": {
      "needs_background": "light"
     },
     "output_type": "display_data"
    }
   ],
   "source": [
    "sns.heatmap(cmatrix, xticklabels=LABELS, yticklabels=LABELS, annot=True, fmt=\"d\");\n",
    "plt.title(\"Confusion matrix\")\n",
    "plt.ylabel('True class')\n",
    "plt.xlabel('Predicted class')\n",
    "plt.show()"
   ]
  },
  {
   "cell_type": "markdown",
   "metadata": {},
   "source": [
    "### Results"
   ]
  },
  {
   "cell_type": "markdown",
   "metadata": {},
   "source": [
    "'''The model was able to catch a majority of fraud detection cases (78/98) in test data. But it also flaged a lot of normal cases(377) as fraud. '''"
   ]
  },
  {
   "cell_type": "code",
   "execution_count": null,
   "metadata": {},
   "outputs": [],
   "source": []
  }
 ],
 "metadata": {
  "kernelspec": {
   "display_name": "Python 3",
   "language": "python",
   "name": "python3"
  },
  "language_info": {
   "codemirror_mode": {
    "name": "ipython",
    "version": 3
   },
   "file_extension": ".py",
   "mimetype": "text/x-python",
   "name": "python",
   "nbconvert_exporter": "python",
   "pygments_lexer": "ipython3",
   "version": "3.5.6"
  }
 },
 "nbformat": 4,
 "nbformat_minor": 2
}
